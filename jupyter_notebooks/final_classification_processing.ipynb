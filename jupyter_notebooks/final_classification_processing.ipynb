{
  "nbformat": 4,
  "nbformat_minor": 0,
  "metadata": {
    "colab": {
      "provenance": []
    },
    "kernelspec": {
      "name": "python3",
      "display_name": "Python 3"
    },
    "language_info": {
      "name": "python"
    }
  },
  "cells": [
    {
      "cell_type": "code",
      "source": [
        "from google.colab import files"
      ],
      "metadata": {
        "id": "0to5D3a8EYJy"
      },
      "execution_count": 1,
      "outputs": []
    },
    {
      "cell_type": "code",
      "source": [
        "# import all required packages\n",
        "from PIL import Image\n",
        "import math\n",
        "from scipy import misc\n",
        "from scipy import ndimage\n",
        "import pandas as pd\n",
        "import os, sys\n",
        "import shutil #for copying files\n",
        "import numpy as np\n",
        "import tqdm as tqdm\n",
        "from methods_temporal_correction import *\n",
        "from methods_rules_based_approach import *"
      ],
      "metadata": {
        "id": "9WyUaOVukSxi"
      },
      "execution_count": 2,
      "outputs": []
    },
    {
      "cell_type": "code",
      "source": [
        "flag_overlapping_TempCorrection = False\n",
        "batch_size_overlapping = 6\n",
        "temp_correction_list=['direct_application','combined_yearly_prediction']\n",
        "# temp_correction_list=['combined_yearly_prediction']\n",
        "year_list = ['2015','2016','2017','2018','2019','2020']\n",
        "#year_list = ['2014','2015','2016','2017','2018','2019','2020']\n",
        "#year_list = ['2010','2011','2012','2013','2014','2015','2016','2017','2018','2019']\n",
        "#year_list = ['1999','2000','2001','2002','2003','2004','2005','2006','2007','2008','2009','2010','2011','2012','2013','2014','2015','2016','2017','2018','2019','2020']\n",
        "\n",
        "\n",
        "\n",
        "\n",
        "print(sys.argv[0])\n",
        "#print()\n",
        "input_folder = '/content/drive/MyDrive/Landsat_7/Landsat7_Mumbai_rf/Mumbai'    #we have stored monthly predections in a folder named by district name\n",
        "if input_folder.split('/')[-1]=='':\n",
        "\tinput_folder = input_folder[:-1]\n",
        "district_name = input_folder.split('/')[-1]\n",
        "if (district_name==\"\"): #if user has put extra \"/\" at the end of input folder path.\n",
        "\tdistrict_name = input_folder.split('/')[-2]\n",
        "\n",
        "print('Name of Area/District - ',district_name)\n",
        "\n",
        "output_folder = 'Results/'+input_folder\n",
        "os.makedirs(output_folder,exist_ok=True)\n"
      ],
      "metadata": {
        "colab": {
          "base_uri": "https://localhost:8080/"
        },
        "id": "ksNiNNL6kYuS",
        "outputId": "98fdf09c-269b-4bac-ca68-5d3aec125af7"
      },
      "execution_count": 3,
      "outputs": [
        {
          "output_type": "stream",
          "name": "stdout",
          "text": [
            "/usr/local/lib/python3.8/dist-packages/ipykernel_launcher.py\n",
            "Name of Area/District -  Mumbai\n"
          ]
        }
      ]
    },
    {
      "cell_type": "code",
      "source": [
        "##==========================================Sub folder structure creation ======================================================\n",
        "\n",
        "print('''\n",
        "        -------------------------------------------------------\n",
        "        Creating sub-folders structure and\n",
        "        Converting .tif files into .png for further processing.  \n",
        "        ------------------------------------------------------''')\n",
        "total_count=0\n",
        "for infile in os.listdir(input_folder):\n",
        "    if infile[-4:] == \".tif\":\n",
        "        total_count = total_count+1\n",
        "        for year in year_list:\n",
        "            os.makedirs(output_folder+\"/\"+year,exist_ok=True)\n",
        "            if (year in infile):\n",
        "                #shutil.move(input_folder+'/'+infile, output_folder+'/'+year+'/'+infile)\n",
        "                shutil.copy(input_folder+'/'+infile, output_folder+'/'+year+'/'+infile)\n",
        "print(\"Total .tif files found in the root folder - \", total_count)\n",
        "\n",
        "\n",
        "for year in year_list:\n",
        "\tmain_folder = output_folder + '/' + year\n",
        "\tos.makedirs(main_folder+\"/pngs\",exist_ok=True)\n",
        "\tcount = 0\n",
        "\tfor infile in os.listdir(main_folder):\n",
        "\t\tif infile[-4:] == \".tif\":                   #reading all tif files in given folder\n",
        "\t\t\tim = Image.open(main_folder+\"/\"+infile)\n",
        "\t\t\tim.save(main_folder+\"/pngs/\"+infile[:-4]+'.png')\n",
        "\t\t\tcount=count+1\n",
        "\tprint(count, ' images found and converted for year ',year )\t\t\n",
        "print('.tif to .png conversion completed.')\n",
        "\n",
        "print('''\n",
        "\t-----------------------------------------------\n",
        "\tSegregating yearly median prediction \n",
        "\tand making them colorful.\n",
        "\t-----------------------------------------------\n",
        "\t''')\n",
        "'''\n",
        "Make a year_median folder and copy all the yearly_median_prediction for all years in that folder.\n",
        "'''\n",
        "os.makedirs(output_folder+\"/results/direct_application\",exist_ok=True)\n",
        "for year in year_list:\n",
        "\tsrc_dir = output_folder + '/' + year + '/pngs'\n",
        "\tdest_dir = output_folder+\"/results/direct_application\"\n",
        "\tfor infile in os.listdir(src_dir):\n",
        "\t\tif ('year_median' in infile):\n",
        "\t\t\tshutil.copyfile(src_dir+'/'+infile, dest_dir+'/'+district_name+'_prediction_'+year+'.png')\n",
        "\n",
        "make_images_colorful(output_folder, \"direct_application\")"
      ],
      "metadata": {
        "colab": {
          "base_uri": "https://localhost:8080/"
        },
        "id": "LxlZnebSkjEt",
        "outputId": "85c87b09-7ee8-4e6a-d6ed-73db6d0b0369"
      },
      "execution_count": 4,
      "outputs": [
        {
          "output_type": "stream",
          "name": "stdout",
          "text": [
            "\n",
            "        -------------------------------------------------------\n",
            "        Creating sub-folders structure and\n",
            "        Converting .tif files into .png for further processing.  \n",
            "        ------------------------------------------------------\n",
            "Total .tif files found in the root folder -  18\n",
            "3  images found and converted for year  2015\n",
            "3  images found and converted for year  2016\n",
            "3  images found and converted for year  2017\n",
            "3  images found and converted for year  2018\n",
            "3  images found and converted for year  2019\n",
            "3  images found and converted for year  2020\n",
            ".tif to .png conversion completed.\n",
            "\n",
            "\t-----------------------------------------------\n",
            "\tSegregating yearly median prediction \n",
            "\tand making them colorful.\n",
            "\t-----------------------------------------------\n",
            "\t\n",
            "direct_application\n",
            "Mumbai_prediction_2019.png - colors filled.\n",
            "Mumbai_prediction_2016.png - colors filled.\n",
            "Mumbai_prediction_2015.png - colors filled.\n",
            "Mumbai_prediction_2020.png - colors filled.\n",
            "Mumbai_prediction_2018.png - colors filled.\n",
            "Mumbai_prediction_2017.png - colors filled.\n"
          ]
        }
      ]
    },
    {
      "cell_type": "code",
      "source": [
        "##=========================================Rule based approach =======================================================\n",
        "\n",
        "print('''\n",
        "\t-----------------------------------------------\n",
        "\tProcessing for final_year_prediction started.\n",
        "\t (Please wait. This might take few minutes.)\n",
        "\t-----------------------------------------------\n",
        "\t''')\n",
        "\n",
        "os.makedirs(output_folder+\"/results/combined_yearly_prediction\",exist_ok=True)\n",
        "for year in year_list:\n",
        "\tmain_folder = output_folder + '/' + year\n",
        "\t#Find the minimum number of background pixels in the images of all months for this year\n",
        "\tdataset = [ np.asarray(Image.open(main_folder+\"/pngs/\"+infile)) for infile in os.listdir(main_folder+\"/pngs/\") ]\n",
        "\timage_dimension = dataset[0].shape\n",
        "\t#print(image_dimension)\n",
        "\n",
        "\t#Initializing the results prediction matrix for a particular year\n",
        "\tresults_prediction = np.zeros(image_dimension[0] * image_dimension[1]).reshape(image_dimension)\n",
        "\t#print(results_prediction)\n",
        "\n",
        "\tfor i in tqdm.tqdm(range(image_dimension[0]), desc='Progress : '):\n",
        "\t    for j in range(image_dimension[1]):\n",
        "\t        x = [ dataset[k][i][j] for k in range(len(dataset)) ]\n",
        "\t        results_prediction[i,j] = merge_prediction(x)\n",
        "\n",
        "\tprint(\"final_prediction \"+year +\" - \",np.unique(results_prediction,return_counts=True))\n",
        "\tresults_prediction = (Image.fromarray(results_prediction)).convert(\"L\")\n",
        "\tresults_prediction.save(output_folder+'/results/combined_yearly_prediction/'+district_name+'_prediction_'+year+'.png')        \n",
        "print('done!')\n",
        "\n",
        "print('''\n",
        "\t-----------------------------------------------\n",
        "\tfinal_year_prediction done.\n",
        "\tMaking final_year_prediction colorful for you!\n",
        "\t-----------------------------------------------\n",
        "\t''')   \n",
        "\n",
        "\n",
        "make_images_colorful(output_folder, \"combined_yearly_prediction\")\n"
      ],
      "metadata": {
        "id": "f46I5Guok608"
      },
      "execution_count": null,
      "outputs": []
    },
    {
      "cell_type": "code",
      "source": [
        "##========================================= Temp Correction procedure =========================================================\t\t\t\n",
        "\n",
        "print('''\n",
        "\t---------------------------------------------------\n",
        "\tCombined_yearly_prediction for all years completed.\n",
        "\tTemporal correction begins...\n",
        "\t---------------------------------------------------\n",
        "\t''')  \n",
        "\n",
        "\n",
        "if flag_overlapping_TempCorrection==True:\n",
        "\tprint(\"Temporal correction is being done with overlapping of two years with batches of \"+ batch_size_overlapping + ' years')\n",
        "\tOverlapping_TempCorrection_execution(output_folder, district_name, year_list, temp_correction_list, batch_size_overlapping)\n",
        "else:\n",
        "\tprint(\"Temporal correction is being done for all years together.\")\n",
        "\tfor folder_name in temp_correction_list:\n",
        "\t\tTempCorrection(output_folder, district_name, year_list, folder_name)\t\t\n",
        "\n",
        "print('''\n",
        "\t-------------------------------------------------------\n",
        "\tMaking temporal corrected predictions colorful for you!\n",
        "\t-------------------------------------------------------\n",
        "\t''')  \n",
        "#-----------------------------------------------------\n",
        "for folder_name in temp_correction_list:\n",
        "\ttemp_coorected_folder_name = folder_name + '_temp_corrected'\n",
        "\tmake_images_colorful(output_folder, temp_coorected_folder_name)\n",
        "\n",
        "\n",
        "print('''\n",
        "\t-----------------------------------------------\n",
        "\t Congratulations! We are done with everything.\n",
        "\t-----------------------------------------------\n",
        "\t''')"
      ],
      "metadata": {
        "id": "qOil2-HMlDCi"
      },
      "execution_count": null,
      "outputs": []
    },
    {
      "cell_type": "code",
      "source": [
        "!zip -r /content/results_rf_mumbai.zip /content/Results/content/drive/MyDrive/Landsat_7/Landsat7_Mumbai_rf/Mumbai"
      ],
      "metadata": {
        "id": "8WJsJWW3lXLJ"
      },
      "execution_count": null,
      "outputs": []
    }
  ]
}